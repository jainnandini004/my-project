{
 "cells": [
  {
   "cell_type": "code",
   "execution_count": 1,
   "metadata": {},
   "outputs": [],
   "source": [
    "import pandas"
   ]
  },
  {
   "cell_type": "code",
   "execution_count": 2,
   "metadata": {},
   "outputs": [],
   "source": [
    "thd=pandas.read_csv(\"Transformed_Housing_Data.csv\")"
   ]
  },
  {
   "cell_type": "code",
   "execution_count": 3,
   "metadata": {},
   "outputs": [
    {
     "name": "stdout",
     "output_type": "stream",
     "text": [
      "<class 'pandas.core.frame.DataFrame'>\n",
      "RangeIndex: 21609 entries, 0 to 21608\n",
      "Data columns (total 21 columns):\n",
      "ID                                           21609 non-null int64\n",
      "Sale Price                                   21609 non-null float64\n",
      "No of Bedrooms                               21609 non-null int64\n",
      "No of Bathrooms                              21609 non-null float64\n",
      "Flat Area (in Sqft)                          21609 non-null float64\n",
      "Lot Area (in Sqft)                           21609 non-null float64\n",
      "No of Floors                                 21609 non-null float64\n",
      "Waterfront View                              21609 non-null object\n",
      "No of Times Visited                          21609 non-null int64\n",
      "Condition of the House                       21609 non-null object\n",
      "Overall Grade                                21609 non-null int64\n",
      "Area of the House from Basement (in Sqft)    21609 non-null float64\n",
      "Basement Area (in Sqft)                      21609 non-null int64\n",
      "Age of House (in Years)                      21609 non-null int64\n",
      "Zipcode                                      21609 non-null float64\n",
      "Latitude                                     21609 non-null float64\n",
      "Longitude                                    21609 non-null float64\n",
      "Living Area after Renovation (in Sqft)       21609 non-null float64\n",
      "Lot Area after Renovation (in Sqft)          21609 non-null int64\n",
      "Ever Renovated                               21609 non-null object\n",
      "Years Since Renovation                       21609 non-null int64\n",
      "dtypes: float64(10), int64(8), object(3)\n",
      "memory usage: 3.5+ MB\n"
     ]
    }
   ],
   "source": [
    "thd.info()"
   ]
  },
  {
   "cell_type": "code",
   "execution_count": 4,
   "metadata": {},
   "outputs": [
    {
     "data": {
      "text/plain": [
       "0         Fair\n",
       "1         Fair\n",
       "2         Fair\n",
       "3    Excellent\n",
       "4         Fair\n",
       "5         Fair\n",
       "6         Fair\n",
       "7         Fair\n",
       "8         Fair\n",
       "9         Fair\n",
       "Name: Condition of the House, dtype: object"
      ]
     },
     "execution_count": 4,
     "metadata": {},
     "output_type": "execute_result"
    }
   ],
   "source": [
    "thd[\"Condition of the House\"].head(10)"
   ]
  },
  {
   "cell_type": "code",
   "execution_count": 7,
   "metadata": {},
   "outputs": [
    {
     "data": {
      "text/plain": [
       "Fair         14028\n",
       "Good          5678\n",
       "Excellent     1701\n",
       "Okay           172\n",
       "Bad             30\n",
       "Name: Condition of the House, dtype: int64"
      ]
     },
     "execution_count": 7,
     "metadata": {},
     "output_type": "execute_result"
    }
   ],
   "source": [
    "thd[\"Condition of the House\"].value_counts()"
   ]
  },
  {
   "cell_type": "code",
   "execution_count": null,
   "metadata": {},
   "outputs": [],
   "source": []
  },
  {
   "cell_type": "markdown",
   "metadata": {},
   "source": [
    "# visual representation b/w categorical variable and numeric variable"
   ]
  },
  {
   "cell_type": "code",
   "execution_count": 8,
   "metadata": {},
   "outputs": [],
   "source": [
    "import matplotlib.pyplot as plt"
   ]
  },
  {
   "cell_type": "code",
   "execution_count": 11,
   "metadata": {},
   "outputs": [
    {
     "data": {
      "text/plain": [
       "<matplotlib.axes._subplots.AxesSubplot at 0x2105ad3c828>"
      ]
     },
     "execution_count": 11,
     "metadata": {},
     "output_type": "execute_result"
    },
    {
     "data": {
      "image/png": "[encoded data removed]",
      "text/plain": [
       "<Figure size 432x288 with 1 Axes>"
      ]
     },
     "metadata": {
      "needs_background": "light"
     },
     "output_type": "display_data"
    }
   ],
   "source": [
    "thd.groupby(\"Condition of the House\",)[\"Sale Price\"].mean().plot(kind=\"bar\")\n"
   ]
  },
  {
   "cell_type": "code",
   "execution_count": 12,
   "metadata": {},
   "outputs": [
    {
     "data": {
      "text/plain": [
       "<matplotlib.axes._subplots.AxesSubplot at 0x2105cd3b940>"
      ]
     },
     "execution_count": 12,
     "metadata": {},
     "output_type": "execute_result"
    },
    {
     "data": {
      "image/png": "[encoded data removed]",
      "text/plain": [
       "<Figure size 432x288 with 1 Axes>"
      ]
     },
     "metadata": {
      "needs_background": "light"
     },
     "output_type": "display_data"
    }
   ],
   "source": [
    "thd.groupby(\"Condition of the House\",)[\"Sale Price\"].mean().sort_values().plot(kind=\"bar\")"
   ]
  },
  {
   "cell_type": "code",
   "execution_count": 15,
   "metadata": {},
   "outputs": [
    {
     "data": {
      "text/plain": [
       "<matplotlib.axes._subplots.AxesSubplot at 0x2105c96f940>"
      ]
     },
     "execution_count": 15,
     "metadata": {},
     "output_type": "execute_result"
    },
    {
     "data": {
      "image/png": "[encoded data removed]",
      "text/plain": [
       "<Figure size 432x288 with 1 Axes>"
      ]
     },
     "metadata": {
      "needs_background": "light"
     },
     "output_type": "display_data"
    }
   ],
   "source": [
    "thd.groupby(\"Waterfront View\",)[\"Sale Price\"].mean().sort_values().plot(kind=\"bar\")"
   ]
  },
  {
   "cell_type": "code",
   "execution_count": 16,
   "metadata": {
    "scrolled": true
   },
   "outputs": [
    {
     "data": {
      "text/plain": [
       "<matplotlib.axes._subplots.AxesSubplot at 0x2105d12da90>"
      ]
     },
     "execution_count": 16,
     "metadata": {},
     "output_type": "execute_result"
    },
    {
     "data": {
      "image/png": "[encoded data removed]",
      "text/plain": [
       "<Figure size 432x288 with 1 Axes>"
      ]
     },
     "metadata": {
      "needs_background": "light"
     },
     "output_type": "display_data"
    }
   ],
   "source": [
    "thd.groupby(\"Zipcode\",)[\"Sale Price\"].mean().sort_values().plot(kind=\"bar\")"
   ]
  },
  {
   "cell_type": "code",
   "execution_count": null,
   "metadata": {},
   "outputs": [],
   "source": []
  }
 ],
 "metadata": {
  "kernelspec": {
   "display_name": "Python 3",
   "language": "python",
   "name": "python3"
  },
  "language_info": {
   "codemirror_mode": {
    "name": "ipython",
    "version": 3
   },
   "file_extension": ".py",
   "mimetype": "text/x-python",
   "name": "python",
   "nbconvert_exporter": "python",
   "pygments_lexer": "ipython3",
   "version": "3.7.1"
  }
 },
 "nbformat": 4,
 "nbformat_minor": 2
}
